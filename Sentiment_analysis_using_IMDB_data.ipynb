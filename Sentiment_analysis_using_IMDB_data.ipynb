{
  "cells": [
    {
      "cell_type": "code",
      "execution_count": 1,
      "id": "761726cb-8551-4ca2-a400-aa7e6213c1e7",
      "metadata": {
        "id": "761726cb-8551-4ca2-a400-aa7e6213c1e7"
      },
      "outputs": [],
      "source": [
        "# Import necessary libraries\n",
        "from tensorflow.keras.layers import SimpleRNN, LSTM, GRU, Bidirectional, Dense, Embedding\n",
        "from tensorflow.keras.datasets import imdb\n",
        "from tensorflow.keras.models import Sequential\n",
        "import numpy as np"
      ]
    },
    {
      "cell_type": "code",
      "execution_count": 2,
      "id": "44a0c840-39a1-4f3f-bf42-a1da2f2c7bdf",
      "metadata": {
        "id": "44a0c840-39a1-4f3f-bf42-a1da2f2c7bdf"
      },
      "outputs": [],
      "source": [
        "# Set the vocabulary size for the dataset (top 10000 most frequent words)\n",
        "vocab_size = 10000"
      ]
    },
    {
      "cell_type": "code",
      "execution_count": 3,
      "id": "a16caaca-96e8-45f8-b732-3d7b131be5a4",
      "metadata": {
        "colab": {
          "base_uri": "https://localhost:8080/"
        },
        "id": "a16caaca-96e8-45f8-b732-3d7b131be5a4",
        "outputId": "8c610c6c-3c77-4ee0-aee1-7e56f9ab1e5f"
      },
      "outputs": [
        {
          "output_type": "stream",
          "name": "stdout",
          "text": [
            "Downloading data from https://storage.googleapis.com/tensorflow/tf-keras-datasets/imdb.npz\n",
            "\u001b[1m17464789/17464789\u001b[0m \u001b[32m━━━━━━━━━━━━━━━━━━━━\u001b[0m\u001b[37m\u001b[0m \u001b[1m0s\u001b[0m 0us/step\n",
            "[1, 14, 22, 16, 43, 530, 973, 1622, 1385, 65, 458, 4468, 66, 3941, 4, 173, 36, 256, 5, 25, 100, 43, 838, 112, 50, 670, 2, 9, 35, 480, 284, 5, 150, 4, 172, 112, 167, 2, 336, 385, 39, 4, 172, 4536, 1111, 17, 546, 38, 13, 447, 4, 192, 50, 16, 6, 147, 2025, 19, 14, 22, 4, 1920, 4613, 469, 4, 22, 71, 87, 12, 16, 43, 530, 38, 76, 15, 13, 1247, 4, 22, 17, 515, 17, 12, 16, 626, 18, 2, 5, 62, 386, 12, 8, 316, 8, 106, 5, 4, 2223, 5244, 16, 480, 66, 3785, 33, 4, 130, 12, 16, 38, 619, 5, 25, 124, 51, 36, 135, 48, 25, 1415, 33, 6, 22, 12, 215, 28, 77, 52, 5, 14, 407, 16, 82, 2, 8, 4, 107, 117, 5952, 15, 256, 4, 2, 7, 3766, 5, 723, 36, 71, 43, 530, 476, 26, 400, 317, 46, 7, 4, 2, 1029, 13, 104, 88, 4, 381, 15, 297, 98, 32, 2071, 56, 26, 141, 6, 194, 7486, 18, 4, 226, 22, 21, 134, 476, 26, 480, 5, 144, 30, 5535, 18, 51, 36, 28, 224, 92, 25, 104, 4, 226, 65, 16, 38, 1334, 88, 12, 16, 283, 5, 16, 4472, 113, 103, 32, 15, 16, 5345, 19, 178, 32]\n"
          ]
        }
      ],
      "source": [
        "# Load the IMDB dataset with only the top 5000 words\n",
        "(x_train, y_train), (x_test, y_test) = imdb.load_data(num_words=vocab_size)\n",
        "print(x_train[0])  # Print the first review to understand the tokenized input"
      ]
    },
    {
      "cell_type": "code",
      "execution_count": 4,
      "id": "c5192d53-bfe9-4e11-aca7-d87c8a30b2b4",
      "metadata": {
        "colab": {
          "base_uri": "https://localhost:8080/"
        },
        "id": "c5192d53-bfe9-4e11-aca7-d87c8a30b2b4",
        "outputId": "20c27ae3-c67c-4bf2-e7c0-79a6d2766b22"
      },
      "outputs": [
        {
          "output_type": "stream",
          "name": "stdout",
          "text": [
            "Downloading data from https://storage.googleapis.com/tensorflow/tf-keras-datasets/imdb_word_index.json\n",
            "\u001b[1m1641221/1641221\u001b[0m \u001b[32m━━━━━━━━━━━━━━━━━━━━\u001b[0m\u001b[37m\u001b[0m \u001b[1m0s\u001b[0m 0us/step\n"
          ]
        }
      ],
      "source": [
        "# Load the word index mapping from the dataset and adjust for reserved indices\n",
        "word_index = imdb.get_word_index()\n",
        "word_index = {k: (v + 3) for k, v in word_index.items()}  # Shift by 3 to account for reserved indices\n",
        "word_index[\"<PAD>\"] = 0\n",
        "word_index[\"<START>\"] = 1\n",
        "word_index[\"<UNK>\"] = 2\n",
        "word_index[\"<UNUSED>\"] = 3"
      ]
    },
    {
      "cell_type": "code",
      "execution_count": 5,
      "id": "a10c7d44-3f87-4e9d-b9bf-16f9c5f2c28d",
      "metadata": {
        "colab": {
          "base_uri": "https://localhost:8080/"
        },
        "id": "a10c7d44-3f87-4e9d-b9bf-16f9c5f2c28d",
        "outputId": "61776106-d3ee-4635-943b-59332f9217b0"
      },
      "outputs": [
        {
          "output_type": "execute_result",
          "data": {
            "text/plain": [
              "array([[   0,    0,    0, ...,   19,  178,   32],\n",
              "       [   0,    0,    0, ...,   16,  145,   95],\n",
              "       [   0,    0,    0, ...,    7,  129,  113],\n",
              "       ...,\n",
              "       [   0,    0,    0, ...,  437,    7,   58],\n",
              "       [   0,    0,    0, ...,   11,    6,    2],\n",
              "       [1004,  142,   55, ...,    4, 5269, 1117]], dtype=int32)"
            ]
          },
          "metadata": {},
          "execution_count": 5
        }
      ],
      "source": [
        "# Preprocess data: pad sequences to a uniform length of max_words (400 in this case)\n",
        "from tensorflow.keras.preprocessing import sequence\n",
        "max_words = 400\n",
        "x_train = sequence.pad_sequences(x_train, maxlen=max_words)\n",
        "x_test = sequence.pad_sequences(x_test, maxlen=max_words)\n",
        "\n",
        "# Split off a small portion of the training data for validation\n",
        "x_valid, y_valid = x_train[:64], y_train[:64]  # First 64 samples for validation\n",
        "x_train, y_train = x_train[64:], y_train[64:]  # Remaining samples for training\n",
        "x_valid  # View the validation set"
      ]
    },
    {
      "cell_type": "code",
      "execution_count": 6,
      "id": "245600be-2a80-4524-8e51-15839e0d3ffa",
      "metadata": {
        "id": "245600be-2a80-4524-8e51-15839e0d3ffa"
      },
      "outputs": [],
      "source": [
        "# Define embedding dimension\n",
        "embd_len = 32"
      ]
    },
    {
      "cell_type": "code",
      "execution_count": 7,
      "id": "48b19720-91ae-4d76-a21c-1d949793511c",
      "metadata": {
        "colab": {
          "base_uri": "https://localhost:8080/",
          "height": 659
        },
        "id": "48b19720-91ae-4d76-a21c-1d949793511c",
        "outputId": "ea6ef2b8-fa78-4e98-dc7d-458450c95744"
      },
      "outputs": [
        {
          "output_type": "stream",
          "name": "stderr",
          "text": [
            "/usr/local/lib/python3.10/dist-packages/keras/src/layers/core/embedding.py:90: UserWarning: Argument `input_length` is deprecated. Just remove it.\n",
            "  warnings.warn(\n"
          ]
        },
        {
          "output_type": "display_data",
          "data": {
            "text/plain": [
              "\u001b[1mModel: \"Simple_RNN\"\u001b[0m\n"
            ],
            "text/html": [
              "<pre style=\"white-space:pre;overflow-x:auto;line-height:normal;font-family:Menlo,'DejaVu Sans Mono',consolas,'Courier New',monospace\"><span style=\"font-weight: bold\">Model: \"Simple_RNN\"</span>\n",
              "</pre>\n"
            ]
          },
          "metadata": {}
        },
        {
          "output_type": "display_data",
          "data": {
            "text/plain": [
              "┏━━━━━━━━━━━━━━━━━━━━━━━━━━━━━━━━━━━━━━┳━━━━━━━━━━━━━━━━━━━━━━━━━━━━━┳━━━━━━━━━━━━━━━━━┓\n",
              "┃\u001b[1m \u001b[0m\u001b[1mLayer (type)                        \u001b[0m\u001b[1m \u001b[0m┃\u001b[1m \u001b[0m\u001b[1mOutput Shape               \u001b[0m\u001b[1m \u001b[0m┃\u001b[1m \u001b[0m\u001b[1m        Param #\u001b[0m\u001b[1m \u001b[0m┃\n",
              "┡━━━━━━━━━━━━━━━━━━━━━━━━━━━━━━━━━━━━━━╇━━━━━━━━━━━━━━━━━━━━━━━━━━━━━╇━━━━━━━━━━━━━━━━━┩\n",
              "│ embedding (\u001b[38;5;33mEmbedding\u001b[0m)                │ ?                           │     \u001b[38;5;34m0\u001b[0m (unbuilt) │\n",
              "├──────────────────────────────────────┼─────────────────────────────┼─────────────────┤\n",
              "│ simple_rnn (\u001b[38;5;33mSimpleRNN\u001b[0m)               │ ?                           │     \u001b[38;5;34m0\u001b[0m (unbuilt) │\n",
              "├──────────────────────────────────────┼─────────────────────────────┼─────────────────┤\n",
              "│ dense (\u001b[38;5;33mDense\u001b[0m)                        │ ?                           │     \u001b[38;5;34m0\u001b[0m (unbuilt) │\n",
              "└──────────────────────────────────────┴─────────────────────────────┴─────────────────┘\n"
            ],
            "text/html": [
              "<pre style=\"white-space:pre;overflow-x:auto;line-height:normal;font-family:Menlo,'DejaVu Sans Mono',consolas,'Courier New',monospace\">┏━━━━━━━━━━━━━━━━━━━━━━━━━━━━━━━━━━━━━━┳━━━━━━━━━━━━━━━━━━━━━━━━━━━━━┳━━━━━━━━━━━━━━━━━┓\n",
              "┃<span style=\"font-weight: bold\"> Layer (type)                         </span>┃<span style=\"font-weight: bold\"> Output Shape                </span>┃<span style=\"font-weight: bold\">         Param # </span>┃\n",
              "┡━━━━━━━━━━━━━━━━━━━━━━━━━━━━━━━━━━━━━━╇━━━━━━━━━━━━━━━━━━━━━━━━━━━━━╇━━━━━━━━━━━━━━━━━┩\n",
              "│ embedding (<span style=\"color: #0087ff; text-decoration-color: #0087ff\">Embedding</span>)                │ ?                           │     <span style=\"color: #00af00; text-decoration-color: #00af00\">0</span> (unbuilt) │\n",
              "├──────────────────────────────────────┼─────────────────────────────┼─────────────────┤\n",
              "│ simple_rnn (<span style=\"color: #0087ff; text-decoration-color: #0087ff\">SimpleRNN</span>)               │ ?                           │     <span style=\"color: #00af00; text-decoration-color: #00af00\">0</span> (unbuilt) │\n",
              "├──────────────────────────────────────┼─────────────────────────────┼─────────────────┤\n",
              "│ dense (<span style=\"color: #0087ff; text-decoration-color: #0087ff\">Dense</span>)                        │ ?                           │     <span style=\"color: #00af00; text-decoration-color: #00af00\">0</span> (unbuilt) │\n",
              "└──────────────────────────────────────┴─────────────────────────────┴─────────────────┘\n",
              "</pre>\n"
            ]
          },
          "metadata": {}
        },
        {
          "output_type": "display_data",
          "data": {
            "text/plain": [
              "\u001b[1m Total params: \u001b[0m\u001b[38;5;34m0\u001b[0m (0.00 B)\n"
            ],
            "text/html": [
              "<pre style=\"white-space:pre;overflow-x:auto;line-height:normal;font-family:Menlo,'DejaVu Sans Mono',consolas,'Courier New',monospace\"><span style=\"font-weight: bold\"> Total params: </span><span style=\"color: #00af00; text-decoration-color: #00af00\">0</span> (0.00 B)\n",
              "</pre>\n"
            ]
          },
          "metadata": {}
        },
        {
          "output_type": "display_data",
          "data": {
            "text/plain": [
              "\u001b[1m Trainable params: \u001b[0m\u001b[38;5;34m0\u001b[0m (0.00 B)\n"
            ],
            "text/html": [
              "<pre style=\"white-space:pre;overflow-x:auto;line-height:normal;font-family:Menlo,'DejaVu Sans Mono',consolas,'Courier New',monospace\"><span style=\"font-weight: bold\"> Trainable params: </span><span style=\"color: #00af00; text-decoration-color: #00af00\">0</span> (0.00 B)\n",
              "</pre>\n"
            ]
          },
          "metadata": {}
        },
        {
          "output_type": "display_data",
          "data": {
            "text/plain": [
              "\u001b[1m Non-trainable params: \u001b[0m\u001b[38;5;34m0\u001b[0m (0.00 B)\n"
            ],
            "text/html": [
              "<pre style=\"white-space:pre;overflow-x:auto;line-height:normal;font-family:Menlo,'DejaVu Sans Mono',consolas,'Courier New',monospace\"><span style=\"font-weight: bold\"> Non-trainable params: </span><span style=\"color: #00af00; text-decoration-color: #00af00\">0</span> (0.00 B)\n",
              "</pre>\n"
            ]
          },
          "metadata": {}
        },
        {
          "output_type": "stream",
          "name": "stdout",
          "text": [
            "None\n",
            "Epoch 1/10\n",
            "\u001b[1m390/390\u001b[0m \u001b[32m━━━━━━━━━━━━━━━━━━━━\u001b[0m\u001b[37m\u001b[0m \u001b[1m21s\u001b[0m 44ms/step - accuracy: 0.5189 - loss: 0.6962 - val_accuracy: 0.4531 - val_loss: 0.7056\n",
            "Epoch 2/10\n",
            "\u001b[1m390/390\u001b[0m \u001b[32m━━━━━━━━━━━━━━━━━━━━\u001b[0m\u001b[37m\u001b[0m \u001b[1m17s\u001b[0m 40ms/step - accuracy: 0.6420 - loss: 0.6311 - val_accuracy: 0.8125 - val_loss: 0.5011\n",
            "Epoch 3/10\n",
            "\u001b[1m390/390\u001b[0m \u001b[32m━━━━━━━━━━━━━━━━━━━━\u001b[0m\u001b[37m\u001b[0m \u001b[1m21s\u001b[0m 41ms/step - accuracy: 0.7809 - loss: 0.4710 - val_accuracy: 0.7969 - val_loss: 0.4482\n",
            "Epoch 4/10\n",
            "\u001b[1m390/390\u001b[0m \u001b[32m━━━━━━━━━━━━━━━━━━━━\u001b[0m\u001b[37m\u001b[0m \u001b[1m15s\u001b[0m 40ms/step - accuracy: 0.8445 - loss: 0.3718 - val_accuracy: 0.7031 - val_loss: 0.6030\n",
            "Epoch 5/10\n",
            "\u001b[1m390/390\u001b[0m \u001b[32m━━━━━━━━━━━━━━━━━━━━\u001b[0m\u001b[37m\u001b[0m \u001b[1m16s\u001b[0m 40ms/step - accuracy: 0.8202 - loss: 0.4031 - val_accuracy: 0.8125 - val_loss: 0.4989\n",
            "Epoch 6/10\n",
            "\u001b[1m390/390\u001b[0m \u001b[32m━━━━━━━━━━━━━━━━━━━━\u001b[0m\u001b[37m\u001b[0m \u001b[1m20s\u001b[0m 40ms/step - accuracy: 0.8739 - loss: 0.3097 - val_accuracy: 0.7812 - val_loss: 0.4388\n",
            "Epoch 7/10\n",
            "\u001b[1m390/390\u001b[0m \u001b[32m━━━━━━━━━━━━━━━━━━━━\u001b[0m\u001b[37m\u001b[0m \u001b[1m20s\u001b[0m 40ms/step - accuracy: 0.7192 - loss: 0.6279 - val_accuracy: 0.6719 - val_loss: 0.6877\n",
            "Epoch 8/10\n",
            "\u001b[1m390/390\u001b[0m \u001b[32m━━━━━━━━━━━━━━━━━━━━\u001b[0m\u001b[37m\u001b[0m \u001b[1m21s\u001b[0m 40ms/step - accuracy: 0.7580 - loss: 0.4956 - val_accuracy: 0.7188 - val_loss: 0.5561\n",
            "Epoch 9/10\n",
            "\u001b[1m390/390\u001b[0m \u001b[32m━━━━━━━━━━━━━━━━━━━━\u001b[0m\u001b[37m\u001b[0m \u001b[1m15s\u001b[0m 39ms/step - accuracy: 0.7895 - loss: 0.4389 - val_accuracy: 0.6875 - val_loss: 0.6375\n",
            "Epoch 10/10\n",
            "\u001b[1m390/390\u001b[0m \u001b[32m━━━━━━━━━━━━━━━━━━━━\u001b[0m\u001b[37m\u001b[0m \u001b[1m21s\u001b[0m 40ms/step - accuracy: 0.8417 - loss: 0.3632 - val_accuracy: 0.7969 - val_loss: 0.5577\n",
            "\n",
            "Simple_RNN Score---> [0.5263340473175049, 0.7770000100135803]\n"
          ]
        }
      ],
      "source": [
        "# Create and define a Simple RNN model\n",
        "RNN_model = Sequential(name=\"Simple_RNN\")\n",
        "RNN_model.add(Embedding(vocab_size,  # Vocabulary size\n",
        "                        embd_len,    # Embedding dimension\n",
        "                        input_length=max_words))  # Input sequence length\n",
        "RNN_model.add(SimpleRNN(128,         # Number of RNN units\n",
        "                        activation='tanh',  # Activation function\n",
        "                        return_sequences=False))  # Only the last output is needed\n",
        "RNN_model.add(Dense(1, activation='sigmoid'))  # Output layer for binary classification\n",
        "print(RNN_model.summary())  # Print model architecture\n",
        "\n",
        "# Compile the RNN model\n",
        "RNN_model.compile(\n",
        "    loss=\"binary_crossentropy\",  # Loss function for binary classification\n",
        "    optimizer='adam',            # Optimizer for gradient descent\n",
        "    metrics=['accuracy']         # Metric for evaluation\n",
        ")\n",
        "\n",
        "# Train the RNN model\n",
        "history = RNN_model.fit(x_train, y_train,\n",
        "                        batch_size=64,       # Batch size for training\n",
        "                        epochs=10,            # Number of epochs\n",
        "                        verbose=1,           # Show training progress\n",
        "                        validation_data=(x_valid, y_valid))  # Use validation data\n",
        "print()\n",
        "print(\"Simple_RNN Score--->\", RNN_model.evaluate(x_test, y_test, verbose=0))  # Evaluate on test set"
      ]
    },
    {
      "cell_type": "code",
      "execution_count": 8,
      "id": "603e80c1-a753-46b8-8a53-e0c289c12ca5",
      "metadata": {
        "colab": {
          "base_uri": "https://localhost:8080/",
          "height": 624
        },
        "id": "603e80c1-a753-46b8-8a53-e0c289c12ca5",
        "outputId": "d8e152d4-f851-40ea-e611-d9dbe004fb11"
      },
      "outputs": [
        {
          "output_type": "display_data",
          "data": {
            "text/plain": [
              "\u001b[1mModel: \"GRU_Model\"\u001b[0m\n"
            ],
            "text/html": [
              "<pre style=\"white-space:pre;overflow-x:auto;line-height:normal;font-family:Menlo,'DejaVu Sans Mono',consolas,'Courier New',monospace\"><span style=\"font-weight: bold\">Model: \"GRU_Model\"</span>\n",
              "</pre>\n"
            ]
          },
          "metadata": {}
        },
        {
          "output_type": "display_data",
          "data": {
            "text/plain": [
              "┏━━━━━━━━━━━━━━━━━━━━━━━━━━━━━━━━━━━━━━┳━━━━━━━━━━━━━━━━━━━━━━━━━━━━━┳━━━━━━━━━━━━━━━━━┓\n",
              "┃\u001b[1m \u001b[0m\u001b[1mLayer (type)                        \u001b[0m\u001b[1m \u001b[0m┃\u001b[1m \u001b[0m\u001b[1mOutput Shape               \u001b[0m\u001b[1m \u001b[0m┃\u001b[1m \u001b[0m\u001b[1m        Param #\u001b[0m\u001b[1m \u001b[0m┃\n",
              "┡━━━━━━━━━━━━━━━━━━━━━━━━━━━━━━━━━━━━━━╇━━━━━━━━━━━━━━━━━━━━━━━━━━━━━╇━━━━━━━━━━━━━━━━━┩\n",
              "│ embedding_1 (\u001b[38;5;33mEmbedding\u001b[0m)              │ ?                           │     \u001b[38;5;34m0\u001b[0m (unbuilt) │\n",
              "├──────────────────────────────────────┼─────────────────────────────┼─────────────────┤\n",
              "│ simple_rnn_1 (\u001b[38;5;33mSimpleRNN\u001b[0m)             │ ?                           │     \u001b[38;5;34m0\u001b[0m (unbuilt) │\n",
              "├──────────────────────────────────────┼─────────────────────────────┼─────────────────┤\n",
              "│ dense_1 (\u001b[38;5;33mDense\u001b[0m)                      │ ?                           │     \u001b[38;5;34m0\u001b[0m (unbuilt) │\n",
              "└──────────────────────────────────────┴─────────────────────────────┴─────────────────┘\n"
            ],
            "text/html": [
              "<pre style=\"white-space:pre;overflow-x:auto;line-height:normal;font-family:Menlo,'DejaVu Sans Mono',consolas,'Courier New',monospace\">┏━━━━━━━━━━━━━━━━━━━━━━━━━━━━━━━━━━━━━━┳━━━━━━━━━━━━━━━━━━━━━━━━━━━━━┳━━━━━━━━━━━━━━━━━┓\n",
              "┃<span style=\"font-weight: bold\"> Layer (type)                         </span>┃<span style=\"font-weight: bold\"> Output Shape                </span>┃<span style=\"font-weight: bold\">         Param # </span>┃\n",
              "┡━━━━━━━━━━━━━━━━━━━━━━━━━━━━━━━━━━━━━━╇━━━━━━━━━━━━━━━━━━━━━━━━━━━━━╇━━━━━━━━━━━━━━━━━┩\n",
              "│ embedding_1 (<span style=\"color: #0087ff; text-decoration-color: #0087ff\">Embedding</span>)              │ ?                           │     <span style=\"color: #00af00; text-decoration-color: #00af00\">0</span> (unbuilt) │\n",
              "├──────────────────────────────────────┼─────────────────────────────┼─────────────────┤\n",
              "│ simple_rnn_1 (<span style=\"color: #0087ff; text-decoration-color: #0087ff\">SimpleRNN</span>)             │ ?                           │     <span style=\"color: #00af00; text-decoration-color: #00af00\">0</span> (unbuilt) │\n",
              "├──────────────────────────────────────┼─────────────────────────────┼─────────────────┤\n",
              "│ dense_1 (<span style=\"color: #0087ff; text-decoration-color: #0087ff\">Dense</span>)                      │ ?                           │     <span style=\"color: #00af00; text-decoration-color: #00af00\">0</span> (unbuilt) │\n",
              "└──────────────────────────────────────┴─────────────────────────────┴─────────────────┘\n",
              "</pre>\n"
            ]
          },
          "metadata": {}
        },
        {
          "output_type": "display_data",
          "data": {
            "text/plain": [
              "\u001b[1m Total params: \u001b[0m\u001b[38;5;34m0\u001b[0m (0.00 B)\n"
            ],
            "text/html": [
              "<pre style=\"white-space:pre;overflow-x:auto;line-height:normal;font-family:Menlo,'DejaVu Sans Mono',consolas,'Courier New',monospace\"><span style=\"font-weight: bold\"> Total params: </span><span style=\"color: #00af00; text-decoration-color: #00af00\">0</span> (0.00 B)\n",
              "</pre>\n"
            ]
          },
          "metadata": {}
        },
        {
          "output_type": "display_data",
          "data": {
            "text/plain": [
              "\u001b[1m Trainable params: \u001b[0m\u001b[38;5;34m0\u001b[0m (0.00 B)\n"
            ],
            "text/html": [
              "<pre style=\"white-space:pre;overflow-x:auto;line-height:normal;font-family:Menlo,'DejaVu Sans Mono',consolas,'Courier New',monospace\"><span style=\"font-weight: bold\"> Trainable params: </span><span style=\"color: #00af00; text-decoration-color: #00af00\">0</span> (0.00 B)\n",
              "</pre>\n"
            ]
          },
          "metadata": {}
        },
        {
          "output_type": "display_data",
          "data": {
            "text/plain": [
              "\u001b[1m Non-trainable params: \u001b[0m\u001b[38;5;34m0\u001b[0m (0.00 B)\n"
            ],
            "text/html": [
              "<pre style=\"white-space:pre;overflow-x:auto;line-height:normal;font-family:Menlo,'DejaVu Sans Mono',consolas,'Courier New',monospace\"><span style=\"font-weight: bold\"> Non-trainable params: </span><span style=\"color: #00af00; text-decoration-color: #00af00\">0</span> (0.00 B)\n",
              "</pre>\n"
            ]
          },
          "metadata": {}
        },
        {
          "output_type": "stream",
          "name": "stdout",
          "text": [
            "None\n",
            "Epoch 1/10\n",
            "390/390 - 18s - 47ms/step - accuracy: 0.5774 - loss: 0.6592 - val_accuracy: 0.5781 - val_loss: 0.6447\n",
            "Epoch 2/10\n",
            "390/390 - 15s - 38ms/step - accuracy: 0.6970 - loss: 0.5740 - val_accuracy: 0.4375 - val_loss: 1.1498\n",
            "Epoch 3/10\n",
            "390/390 - 21s - 53ms/step - accuracy: 0.7726 - loss: 0.4830 - val_accuracy: 0.7812 - val_loss: 0.5631\n",
            "Epoch 4/10\n",
            "390/390 - 20s - 52ms/step - accuracy: 0.8061 - loss: 0.4327 - val_accuracy: 0.7500 - val_loss: 0.5424\n",
            "Epoch 5/10\n",
            "390/390 - 15s - 38ms/step - accuracy: 0.7715 - loss: 0.4706 - val_accuracy: 0.5938 - val_loss: 0.8600\n",
            "Epoch 6/10\n",
            "390/390 - 15s - 39ms/step - accuracy: 0.8262 - loss: 0.4004 - val_accuracy: 0.7812 - val_loss: 0.5336\n",
            "Epoch 7/10\n",
            "390/390 - 15s - 39ms/step - accuracy: 0.8547 - loss: 0.3426 - val_accuracy: 0.7812 - val_loss: 0.5701\n",
            "Epoch 8/10\n",
            "390/390 - 20s - 52ms/step - accuracy: 0.8611 - loss: 0.3280 - val_accuracy: 0.7188 - val_loss: 0.5961\n",
            "Epoch 9/10\n",
            "390/390 - 21s - 53ms/step - accuracy: 0.8328 - loss: 0.3746 - val_accuracy: 0.7500 - val_loss: 0.5987\n",
            "Epoch 10/10\n",
            "390/390 - 21s - 53ms/step - accuracy: 0.8756 - loss: 0.2984 - val_accuracy: 0.8125 - val_loss: 0.6170\n",
            "\n",
            "GRU Model Score---> [0.5937971472740173, 0.7470399737358093]\n"
          ]
        }
      ],
      "source": [
        "# Create and define a GRU-based model\n",
        "gru_model = Sequential(name=\"GRU_Model\")\n",
        "gru_model.add(Embedding(vocab_size, embd_len, input_length=max_words))\n",
        "gru_model.add(SimpleRNN(128, activation='tanh', return_sequences=False))\n",
        "gru_model.add(Dense(1, activation='sigmoid'))\n",
        "print(gru_model.summary())\n",
        "\n",
        "# Compile and train the GRU model\n",
        "gru_model.compile(loss=\"binary_crossentropy\", optimizer='adam', metrics=['accuracy'])\n",
        "history2 = gru_model.fit(x_train, y_train,\n",
        "                         batch_size=64,\n",
        "                         epochs=10,\n",
        "                         verbose=2,\n",
        "                         validation_data=(x_valid, y_valid))\n",
        "print()\n",
        "print(\"GRU Model Score--->\", gru_model.evaluate(x_test, y_test, verbose=0))"
      ]
    },
    {
      "cell_type": "code",
      "execution_count": 9,
      "id": "4e6760db-4935-4430-942b-a8e72034bd18",
      "metadata": {
        "colab": {
          "base_uri": "https://localhost:8080/",
          "height": 624
        },
        "id": "4e6760db-4935-4430-942b-a8e72034bd18",
        "outputId": "90b19085-300f-4515-f6a3-3aa2a96c68f7"
      },
      "outputs": [
        {
          "output_type": "display_data",
          "data": {
            "text/plain": [
              "\u001b[1mModel: \"LSTM_Model\"\u001b[0m\n"
            ],
            "text/html": [
              "<pre style=\"white-space:pre;overflow-x:auto;line-height:normal;font-family:Menlo,'DejaVu Sans Mono',consolas,'Courier New',monospace\"><span style=\"font-weight: bold\">Model: \"LSTM_Model\"</span>\n",
              "</pre>\n"
            ]
          },
          "metadata": {}
        },
        {
          "output_type": "display_data",
          "data": {
            "text/plain": [
              "┏━━━━━━━━━━━━━━━━━━━━━━━━━━━━━━━━━━━━━━┳━━━━━━━━━━━━━━━━━━━━━━━━━━━━━┳━━━━━━━━━━━━━━━━━┓\n",
              "┃\u001b[1m \u001b[0m\u001b[1mLayer (type)                        \u001b[0m\u001b[1m \u001b[0m┃\u001b[1m \u001b[0m\u001b[1mOutput Shape               \u001b[0m\u001b[1m \u001b[0m┃\u001b[1m \u001b[0m\u001b[1m        Param #\u001b[0m\u001b[1m \u001b[0m┃\n",
              "┡━━━━━━━━━━━━━━━━━━━━━━━━━━━━━━━━━━━━━━╇━━━━━━━━━━━━━━━━━━━━━━━━━━━━━╇━━━━━━━━━━━━━━━━━┩\n",
              "│ embedding_2 (\u001b[38;5;33mEmbedding\u001b[0m)              │ ?                           │     \u001b[38;5;34m0\u001b[0m (unbuilt) │\n",
              "├──────────────────────────────────────┼─────────────────────────────┼─────────────────┤\n",
              "│ simple_rnn_2 (\u001b[38;5;33mSimpleRNN\u001b[0m)             │ ?                           │     \u001b[38;5;34m0\u001b[0m (unbuilt) │\n",
              "├──────────────────────────────────────┼─────────────────────────────┼─────────────────┤\n",
              "│ dense_2 (\u001b[38;5;33mDense\u001b[0m)                      │ ?                           │     \u001b[38;5;34m0\u001b[0m (unbuilt) │\n",
              "└──────────────────────────────────────┴─────────────────────────────┴─────────────────┘\n"
            ],
            "text/html": [
              "<pre style=\"white-space:pre;overflow-x:auto;line-height:normal;font-family:Menlo,'DejaVu Sans Mono',consolas,'Courier New',monospace\">┏━━━━━━━━━━━━━━━━━━━━━━━━━━━━━━━━━━━━━━┳━━━━━━━━━━━━━━━━━━━━━━━━━━━━━┳━━━━━━━━━━━━━━━━━┓\n",
              "┃<span style=\"font-weight: bold\"> Layer (type)                         </span>┃<span style=\"font-weight: bold\"> Output Shape                </span>┃<span style=\"font-weight: bold\">         Param # </span>┃\n",
              "┡━━━━━━━━━━━━━━━━━━━━━━━━━━━━━━━━━━━━━━╇━━━━━━━━━━━━━━━━━━━━━━━━━━━━━╇━━━━━━━━━━━━━━━━━┩\n",
              "│ embedding_2 (<span style=\"color: #0087ff; text-decoration-color: #0087ff\">Embedding</span>)              │ ?                           │     <span style=\"color: #00af00; text-decoration-color: #00af00\">0</span> (unbuilt) │\n",
              "├──────────────────────────────────────┼─────────────────────────────┼─────────────────┤\n",
              "│ simple_rnn_2 (<span style=\"color: #0087ff; text-decoration-color: #0087ff\">SimpleRNN</span>)             │ ?                           │     <span style=\"color: #00af00; text-decoration-color: #00af00\">0</span> (unbuilt) │\n",
              "├──────────────────────────────────────┼─────────────────────────────┼─────────────────┤\n",
              "│ dense_2 (<span style=\"color: #0087ff; text-decoration-color: #0087ff\">Dense</span>)                      │ ?                           │     <span style=\"color: #00af00; text-decoration-color: #00af00\">0</span> (unbuilt) │\n",
              "└──────────────────────────────────────┴─────────────────────────────┴─────────────────┘\n",
              "</pre>\n"
            ]
          },
          "metadata": {}
        },
        {
          "output_type": "display_data",
          "data": {
            "text/plain": [
              "\u001b[1m Total params: \u001b[0m\u001b[38;5;34m0\u001b[0m (0.00 B)\n"
            ],
            "text/html": [
              "<pre style=\"white-space:pre;overflow-x:auto;line-height:normal;font-family:Menlo,'DejaVu Sans Mono',consolas,'Courier New',monospace\"><span style=\"font-weight: bold\"> Total params: </span><span style=\"color: #00af00; text-decoration-color: #00af00\">0</span> (0.00 B)\n",
              "</pre>\n"
            ]
          },
          "metadata": {}
        },
        {
          "output_type": "display_data",
          "data": {
            "text/plain": [
              "\u001b[1m Trainable params: \u001b[0m\u001b[38;5;34m0\u001b[0m (0.00 B)\n"
            ],
            "text/html": [
              "<pre style=\"white-space:pre;overflow-x:auto;line-height:normal;font-family:Menlo,'DejaVu Sans Mono',consolas,'Courier New',monospace\"><span style=\"font-weight: bold\"> Trainable params: </span><span style=\"color: #00af00; text-decoration-color: #00af00\">0</span> (0.00 B)\n",
              "</pre>\n"
            ]
          },
          "metadata": {}
        },
        {
          "output_type": "display_data",
          "data": {
            "text/plain": [
              "\u001b[1m Non-trainable params: \u001b[0m\u001b[38;5;34m0\u001b[0m (0.00 B)\n"
            ],
            "text/html": [
              "<pre style=\"white-space:pre;overflow-x:auto;line-height:normal;font-family:Menlo,'DejaVu Sans Mono',consolas,'Courier New',monospace\"><span style=\"font-weight: bold\"> Non-trainable params: </span><span style=\"color: #00af00; text-decoration-color: #00af00\">0</span> (0.00 B)\n",
              "</pre>\n"
            ]
          },
          "metadata": {}
        },
        {
          "output_type": "stream",
          "name": "stdout",
          "text": [
            "None\n",
            "Epoch 1/10\n",
            "390/390 - 19s - 48ms/step - accuracy: 0.6083 - loss: 0.6788 - val_accuracy: 0.6562 - val_loss: 0.6030\n",
            "Epoch 2/10\n",
            "390/390 - 15s - 38ms/step - accuracy: 0.7173 - loss: 479.0268 - val_accuracy: 0.4688 - val_loss: 0.7139\n",
            "Epoch 3/10\n",
            "390/390 - 15s - 37ms/step - accuracy: 0.7892 - loss: 0.4667 - val_accuracy: 0.8438 - val_loss: 0.4453\n",
            "Epoch 4/10\n",
            "390/390 - 21s - 53ms/step - accuracy: 0.8420 - loss: 0.4011 - val_accuracy: 0.8438 - val_loss: 0.4672\n",
            "Epoch 5/10\n",
            "390/390 - 20s - 52ms/step - accuracy: 0.6119 - loss: 1150.6320 - val_accuracy: 0.7031 - val_loss: 0.6462\n",
            "Epoch 6/10\n",
            "390/390 - 21s - 53ms/step - accuracy: 0.6952 - loss: 0.5846 - val_accuracy: 0.6719 - val_loss: 0.6163\n",
            "Epoch 7/10\n",
            "390/390 - 20s - 52ms/step - accuracy: 0.5442 - loss: 368.6443 - val_accuracy: 0.6094 - val_loss: 1.6690\n",
            "Epoch 8/10\n",
            "390/390 - 21s - 53ms/step - accuracy: 0.4999 - loss: 1.6245 - val_accuracy: 0.6094 - val_loss: 1.0992\n",
            "Epoch 9/10\n",
            "390/390 - 20s - 52ms/step - accuracy: 0.5116 - loss: 1.0753 - val_accuracy: 0.6094 - val_loss: 0.8173\n",
            "Epoch 10/10\n",
            "390/390 - 15s - 38ms/step - accuracy: 0.5395 - loss: 0.8153 - val_accuracy: 0.5938 - val_loss: 0.6905\n",
            "\n",
            "LSTM Model Score---> [0.7630339860916138, 0.5496000051498413]\n"
          ]
        }
      ],
      "source": [
        "# Create and define an LSTM-based model\n",
        "lstm_model = Sequential(name=\"LSTM_Model\")\n",
        "lstm_model.add(Embedding(vocab_size, embd_len, input_length=max_words))\n",
        "lstm_model.add(SimpleRNN(128, activation='relu', return_sequences=False))\n",
        "lstm_model.add(Dense(1, activation='sigmoid'))\n",
        "print(lstm_model.summary())\n",
        "\n",
        "# Compile and train the LSTM model\n",
        "lstm_model.compile(loss=\"binary_crossentropy\", optimizer='adam', metrics=['accuracy'])\n",
        "history3 = lstm_model.fit(x_train, y_train,\n",
        "                          batch_size=64,\n",
        "                          epochs=10,\n",
        "                          verbose=2,\n",
        "                          validation_data=(x_valid, y_valid))\n",
        "print()\n",
        "print(\"LSTM Model Score--->\", lstm_model.evaluate(x_test, y_test, verbose=0))"
      ]
    },
    {
      "cell_type": "code",
      "execution_count": 10,
      "id": "47010328-259f-4e0b-a5e0-05016a9fe6be",
      "metadata": {
        "colab": {
          "base_uri": "https://localhost:8080/",
          "height": 624
        },
        "id": "47010328-259f-4e0b-a5e0-05016a9fe6be",
        "outputId": "abf03e89-fe2d-428c-a152-4af37b7e3879"
      },
      "outputs": [
        {
          "output_type": "display_data",
          "data": {
            "text/plain": [
              "\u001b[1mModel: \"Bidirectional_LSTM\"\u001b[0m\n"
            ],
            "text/html": [
              "<pre style=\"white-space:pre;overflow-x:auto;line-height:normal;font-family:Menlo,'DejaVu Sans Mono',consolas,'Courier New',monospace\"><span style=\"font-weight: bold\">Model: \"Bidirectional_LSTM\"</span>\n",
              "</pre>\n"
            ]
          },
          "metadata": {}
        },
        {
          "output_type": "display_data",
          "data": {
            "text/plain": [
              "┏━━━━━━━━━━━━━━━━━━━━━━━━━━━━━━━━━━━━━━┳━━━━━━━━━━━━━━━━━━━━━━━━━━━━━┳━━━━━━━━━━━━━━━━━┓\n",
              "┃\u001b[1m \u001b[0m\u001b[1mLayer (type)                        \u001b[0m\u001b[1m \u001b[0m┃\u001b[1m \u001b[0m\u001b[1mOutput Shape               \u001b[0m\u001b[1m \u001b[0m┃\u001b[1m \u001b[0m\u001b[1m        Param #\u001b[0m\u001b[1m \u001b[0m┃\n",
              "┡━━━━━━━━━━━━━━━━━━━━━━━━━━━━━━━━━━━━━━╇━━━━━━━━━━━━━━━━━━━━━━━━━━━━━╇━━━━━━━━━━━━━━━━━┩\n",
              "│ embedding_3 (\u001b[38;5;33mEmbedding\u001b[0m)              │ ?                           │     \u001b[38;5;34m0\u001b[0m (unbuilt) │\n",
              "├──────────────────────────────────────┼─────────────────────────────┼─────────────────┤\n",
              "│ simple_rnn_3 (\u001b[38;5;33mSimpleRNN\u001b[0m)             │ ?                           │     \u001b[38;5;34m0\u001b[0m (unbuilt) │\n",
              "├──────────────────────────────────────┼─────────────────────────────┼─────────────────┤\n",
              "│ dense_3 (\u001b[38;5;33mDense\u001b[0m)                      │ ?                           │     \u001b[38;5;34m0\u001b[0m (unbuilt) │\n",
              "└──────────────────────────────────────┴─────────────────────────────┴─────────────────┘\n"
            ],
            "text/html": [
              "<pre style=\"white-space:pre;overflow-x:auto;line-height:normal;font-family:Menlo,'DejaVu Sans Mono',consolas,'Courier New',monospace\">┏━━━━━━━━━━━━━━━━━━━━━━━━━━━━━━━━━━━━━━┳━━━━━━━━━━━━━━━━━━━━━━━━━━━━━┳━━━━━━━━━━━━━━━━━┓\n",
              "┃<span style=\"font-weight: bold\"> Layer (type)                         </span>┃<span style=\"font-weight: bold\"> Output Shape                </span>┃<span style=\"font-weight: bold\">         Param # </span>┃\n",
              "┡━━━━━━━━━━━━━━━━━━━━━━━━━━━━━━━━━━━━━━╇━━━━━━━━━━━━━━━━━━━━━━━━━━━━━╇━━━━━━━━━━━━━━━━━┩\n",
              "│ embedding_3 (<span style=\"color: #0087ff; text-decoration-color: #0087ff\">Embedding</span>)              │ ?                           │     <span style=\"color: #00af00; text-decoration-color: #00af00\">0</span> (unbuilt) │\n",
              "├──────────────────────────────────────┼─────────────────────────────┼─────────────────┤\n",
              "│ simple_rnn_3 (<span style=\"color: #0087ff; text-decoration-color: #0087ff\">SimpleRNN</span>)             │ ?                           │     <span style=\"color: #00af00; text-decoration-color: #00af00\">0</span> (unbuilt) │\n",
              "├──────────────────────────────────────┼─────────────────────────────┼─────────────────┤\n",
              "│ dense_3 (<span style=\"color: #0087ff; text-decoration-color: #0087ff\">Dense</span>)                      │ ?                           │     <span style=\"color: #00af00; text-decoration-color: #00af00\">0</span> (unbuilt) │\n",
              "└──────────────────────────────────────┴─────────────────────────────┴─────────────────┘\n",
              "</pre>\n"
            ]
          },
          "metadata": {}
        },
        {
          "output_type": "display_data",
          "data": {
            "text/plain": [
              "\u001b[1m Total params: \u001b[0m\u001b[38;5;34m0\u001b[0m (0.00 B)\n"
            ],
            "text/html": [
              "<pre style=\"white-space:pre;overflow-x:auto;line-height:normal;font-family:Menlo,'DejaVu Sans Mono',consolas,'Courier New',monospace\"><span style=\"font-weight: bold\"> Total params: </span><span style=\"color: #00af00; text-decoration-color: #00af00\">0</span> (0.00 B)\n",
              "</pre>\n"
            ]
          },
          "metadata": {}
        },
        {
          "output_type": "display_data",
          "data": {
            "text/plain": [
              "\u001b[1m Trainable params: \u001b[0m\u001b[38;5;34m0\u001b[0m (0.00 B)\n"
            ],
            "text/html": [
              "<pre style=\"white-space:pre;overflow-x:auto;line-height:normal;font-family:Menlo,'DejaVu Sans Mono',consolas,'Courier New',monospace\"><span style=\"font-weight: bold\"> Trainable params: </span><span style=\"color: #00af00; text-decoration-color: #00af00\">0</span> (0.00 B)\n",
              "</pre>\n"
            ]
          },
          "metadata": {}
        },
        {
          "output_type": "display_data",
          "data": {
            "text/plain": [
              "\u001b[1m Non-trainable params: \u001b[0m\u001b[38;5;34m0\u001b[0m (0.00 B)\n"
            ],
            "text/html": [
              "<pre style=\"white-space:pre;overflow-x:auto;line-height:normal;font-family:Menlo,'DejaVu Sans Mono',consolas,'Courier New',monospace\"><span style=\"font-weight: bold\"> Non-trainable params: </span><span style=\"color: #00af00; text-decoration-color: #00af00\">0</span> (0.00 B)\n",
              "</pre>\n"
            ]
          },
          "metadata": {}
        },
        {
          "output_type": "stream",
          "name": "stdout",
          "text": [
            "None\n",
            "Epoch 1/10\n",
            "390/390 - 19s - 48ms/step - accuracy: 0.5538 - loss: 0.6809 - val_accuracy: 0.6562 - val_loss: 0.6478\n",
            "Epoch 2/10\n",
            "390/390 - 15s - 38ms/step - accuracy: 0.6620 - loss: 0.6172 - val_accuracy: 0.7500 - val_loss: 0.5858\n",
            "Epoch 3/10\n",
            "390/390 - 21s - 53ms/step - accuracy: 0.7483 - loss: 0.5224 - val_accuracy: 0.6094 - val_loss: 0.6808\n",
            "Epoch 4/10\n",
            "390/390 - 20s - 52ms/step - accuracy: 0.7958 - loss: 0.4532 - val_accuracy: 0.6875 - val_loss: 0.5586\n",
            "Epoch 5/10\n",
            "390/390 - 20s - 52ms/step - accuracy: 0.7717 - loss: 0.4785 - val_accuracy: 0.7500 - val_loss: 0.5344\n",
            "Epoch 6/10\n",
            "390/390 - 21s - 53ms/step - accuracy: 0.8529 - loss: 0.3507 - val_accuracy: 0.7812 - val_loss: 0.4808\n",
            "Epoch 7/10\n",
            "390/390 - 20s - 52ms/step - accuracy: 0.8904 - loss: 0.2851 - val_accuracy: 0.7812 - val_loss: 0.4671\n",
            "Epoch 8/10\n",
            "390/390 - 20s - 52ms/step - accuracy: 0.9026 - loss: 0.2562 - val_accuracy: 0.7812 - val_loss: 0.4857\n",
            "Epoch 9/10\n",
            "390/390 - 21s - 54ms/step - accuracy: 0.9062 - loss: 0.2412 - val_accuracy: 0.4062 - val_loss: 0.8565\n",
            "Epoch 10/10\n",
            "390/390 - 20s - 51ms/step - accuracy: 0.6817 - loss: 0.5674 - val_accuracy: 0.5781 - val_loss: 0.6615\n",
            "\n",
            "Bidirectional LSTM Model Score---> [0.6398372650146484, 0.6367599964141846]\n"
          ]
        }
      ],
      "source": [
        "# Create and define a Bidirectional LSTM model\n",
        "bi_lstm_model = Sequential(name=\"Bidirectional_LSTM\")\n",
        "bi_lstm_model.add(Embedding(vocab_size, embd_len, input_length=max_words))\n",
        "bi_lstm_model.add(SimpleRNN(128, activation='tanh', return_sequences=False))\n",
        "bi_lstm_model.add(Dense(1, activation='sigmoid'))\n",
        "print(bi_lstm_model.summary())\n",
        "\n",
        "# Compile and train the Bidirectional LSTM model\n",
        "bi_lstm_model.compile(loss=\"binary_crossentropy\", optimizer='adam', metrics=['accuracy'])\n",
        "history4 = bi_lstm_model.fit(x_train, y_train,\n",
        "                             batch_size=64,\n",
        "                             epochs=10,\n",
        "                             verbose=2,\n",
        "                             validation_data=(x_valid, y_valid))\n",
        "print()\n",
        "print(\"Bidirectional LSTM Model Score--->\", bi_lstm_model.evaluate(x_test, y_test, verbose=0))"
      ]
    },
    {
      "cell_type": "code",
      "execution_count": 12,
      "id": "9d7293ba-490f-4fc2-8e1e-a4eb356f7f85",
      "metadata": {
        "colab": {
          "base_uri": "https://localhost:8080/"
        },
        "id": "9d7293ba-490f-4fc2-8e1e-a4eb356f7f85",
        "outputId": "3fef1737-313b-4b2e-a396-435e2489377c"
      },
      "outputs": [
        {
          "output_type": "stream",
          "name": "stdout",
          "text": [
            "Sentence: The movie was fantastic and had great acting\n",
            "Processed Input: [[  0   0   0   0   0   0   0   0   0   0   0   0   0   0   0   0   0   0\n",
            "    0   0   0   0   0   0   0   0   0   0   0   0   0   0   0   0   0   0\n",
            "    0   0   0   0   0   0   0   0   0   0   0   0   0   0   0   0   0   0\n",
            "    0   0   0   0   0   0   0   0   0   0   0   0   0   0   0   0   0   0\n",
            "    0   0   0   0   0   0   0   0   0   0   0   0   0   0   0   0   0   0\n",
            "    0   0   0   0   0   0   0   0   0   0   0   0   0   0   0   0   0   0\n",
            "    0   0   0   0   0   0   0   0   0   0   0   0   0   0   0   0   0   0\n",
            "    0   0   0   0   0   0   0   0   0   0   0   0   0   0   0   0   0   0\n",
            "    0   0   0   0   0   0   0   0   0   0   0   0   0   0   0   0   0   0\n",
            "    0   0   0   0   0   0   0   0   0   0   0   0   0   0   0   0   0   0\n",
            "    0   0   0   0   0   0   0   0   0   0   0   0   0   0   0   0   0   0\n",
            "    0   0   0   0   0   0   0   0   0   0   0   0   0   0   0   0   0   0\n",
            "    0   0   0   0   0   0   0   0   0   0   0   0   0   0   0   0   0   0\n",
            "    0   0   0   0   0   0   0   0   0   0   0   0   0   0   0   0   0   0\n",
            "    0   0   0   0   0   0   0   0   0   0   0   0   0   0   0   0   0   0\n",
            "    0   0   0   0   0   0   0   0   0   0   0   0   0   0   0   0   0   0\n",
            "    0   0   0   0   0   0   0   0   0   0   0   0   0   0   0   0   0   0\n",
            "    0   0   0   0   0   0   0   0   0   0   0   0   0   0   0   0   0   0\n",
            "    0   0   0   0   0   0   0   0   0   0   0   0   0   0   0   0   0   0\n",
            "    0   0   0   0   0   0   0   0   0   0   0   0   0   0   0   0   0   0\n",
            "    0   0   0   0   0   0   0   0   0   0   0   0   0   0   0   0   0   0\n",
            "    0   0   0   0   0   0   0   0   0   0   0   0   0   0   4  20  16 777\n",
            "    5  69  87 116]]\n",
            "Predicted Sentiment: Positive\n"
          ]
        }
      ],
      "source": [
        "# Function to preprocess raw text and predict sentiment\n",
        "from tensorflow.keras.preprocessing.text import tokenizer_from_json\n",
        "from tensorflow.keras.preprocessing.sequence import pad_sequences\n",
        "\n",
        "def preprocess_text(text, word_index, max_words):\n",
        "    # Tokenize and convert words to integers using word_index\n",
        "    tokens = [word_index.get(word, 0) for word in text.split()]  # 0 for unknown words\n",
        "    # Pad sequence to match the model's input size\n",
        "    tokens = pad_sequences([tokens], maxlen=max_words)\n",
        "    return tokens\n",
        "\n",
        "def predict_sentiment(model, text, word_index, max_words):\n",
        "    # Preprocess the input text\n",
        "    processed_text = preprocess_text(text, word_index, max_words)\n",
        "    # Predict the sentiment\n",
        "    prediction = model.predict(processed_text, verbose=0)\n",
        "    # Return the sentiment\n",
        "    return \"Positive\" if prediction >= 0.5 else \"Negative\"\n",
        "\n",
        "sample_text = input(\"Sentence: \")\n",
        "preprocessed_text = preprocess_text(sample_text.lower(), word_index, max_words)\n",
        "print(\"Processed Input:\", preprocessed_text)\n",
        "sentiment = predict_sentiment(RNN_model, sample_text.lower(), word_index, max_words)\n",
        "print(\"Predicted Sentiment:\", sentiment)"
      ]
    },
    {
      "cell_type": "code",
      "source": [],
      "metadata": {
        "id": "LkrbR3fnUHDD"
      },
      "id": "LkrbR3fnUHDD",
      "execution_count": null,
      "outputs": []
    }
  ],
  "metadata": {
    "kernelspec": {
      "display_name": "Python 3",
      "name": "python3"
    },
    "language_info": {
      "codemirror_mode": {
        "name": "ipython",
        "version": 3
      },
      "file_extension": ".py",
      "mimetype": "text/x-python",
      "name": "python",
      "nbconvert_exporter": "python",
      "pygments_lexer": "ipython3",
      "version": "3.12.4"
    },
    "colab": {
      "provenance": [],
      "gpuType": "T4"
    },
    "accelerator": "GPU"
  },
  "nbformat": 4,
  "nbformat_minor": 5
}